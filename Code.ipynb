{
  "nbformat": 4,
  "nbformat_minor": 0,
  "metadata": {
    "colab": {
      "name": "SIT742_Assign2_T2ExtraGroup_13.ipynb",
      "provenance": [],
      "collapsed_sections": []
    },
    "language_info": {
      "mimetype": "text/x-python",
      "nbconvert_exporter": "python",
      "version": "3.5.5",
      "name": "python",
      "file_extension": ".py",
      "pygments_lexer": "ipython3",
      "codemirror_mode": {
        "version": 3,
        "name": "ipython"
      }
    },
    "kernelspec": {
      "display_name": "Python 3.5",
      "name": "python3",
      "language": "python"
    }
  },
  "cells": [
    {
      "cell_type": "markdown",
      "metadata": {
        "id": "_th7e2nu0At7",
        "colab_type": "text"
      },
      "source": [
        "# SIT742: Modern Data Science \n",
        "\n",
        "**Project Information:**\n",
        "\n",
        "- Names: Ishaan Bazaz\n",
        "\n",
        "---"
      ]
    },
    {
      "cell_type": "markdown",
      "metadata": {
        "colab_type": "text",
        "id": "eASNvREtBU9G"
      },
      "source": [
        "# 1.Import Spark"
      ]
    },
    {
      "cell_type": "code",
      "metadata": {
        "colab_type": "code",
        "id": "duCJfMrnGu00",
        "cellView": "code",
        "outputId": "90d75f33-00cd-4d7e-ae83-2684473c062d",
        "colab": {
          "base_uri": "https://localhost:8080/",
          "height": 34
        }
      },
      "source": [
        "!pip install wget\n",
        "!apt-get install openjdk-8-jdk-headless -qq > /dev/null\n",
        "!wget -q https://archive.apache.org/dist/spark/spark-2.4.0/spark-2.4.0-bin-hadoop2.7.tgz\n",
        "!tar xf spark-2.4.0-bin-hadoop2.7.tgz\n",
        "!pip install -q findspark\n",
        "import os\n",
        "os.environ[\"JAVA_HOME\"] = \"/usr/lib/jvm/java-8-openjdk-amd64\"\n",
        "os.environ[\"SPARK_HOME\"] = \"/content/spark-2.4.0-bin-hadoop2.7\"\n"
      ],
      "execution_count": 0,
      "outputs": [
        {
          "output_type": "stream",
          "text": [
            "Requirement already satisfied: wget in /usr/local/lib/python3.6/dist-packages (3.2)\n"
          ],
          "name": "stdout"
        }
      ]
    },
    {
      "cell_type": "code",
      "metadata": {
        "id": "yBl_rK0Mab0Y",
        "colab_type": "code",
        "outputId": "a91edf81-292c-4442-c16b-0f1e0674548b",
        "colab": {
          "base_uri": "https://localhost:8080/",
          "height": 68
        }
      },
      "source": [
        "!pip install pyspark\n",
        "from pyspark import SparkContext\n",
        "sc = SparkContext.getOrCreate()\n",
        "import findspark\n",
        "findspark.init()\n",
        "from pyspark.sql import SparkSession \n",
        "from pyspark.sql import SQLContext\n",
        "sqlContext = SQLContext(sc)\n",
        "sqlContext"
      ],
      "execution_count": 0,
      "outputs": [
        {
          "output_type": "stream",
          "text": [
            "Requirement already satisfied: pyspark in /usr/local/lib/python3.6/dist-packages (2.4.3)\n",
            "Requirement already satisfied: py4j==0.10.7 in /usr/local/lib/python3.6/dist-packages (from pyspark) (0.10.7)\n"
          ],
          "name": "stdout"
        },
        {
          "output_type": "execute_result",
          "data": {
            "text/plain": [
              "<pyspark.sql.context.SQLContext at 0x7fc7da1a1278>"
            ]
          },
          "metadata": {
            "tags": []
          },
          "execution_count": 56
        }
      ]
    },
    {
      "cell_type": "markdown",
      "metadata": {
        "colab_type": "text",
        "id": "K7bEtO_fBZmE"
      },
      "source": [
        "# 2.Read and check data"
      ]
    },
    {
      "cell_type": "code",
      "metadata": {
        "colab_type": "code",
        "id": "FQ8Ts9eZBA-M",
        "colab": {}
      },
      "source": [
        "# Import the 'bank.csv' as a Spark dataframe and name it as df\n",
        "import wget\n",
        "dataset = wget.download('https://github.com/tulip-lab/sit742/raw/master/Assessment/2019/data/bank.csv')\n",
        "spark = SparkSession.builder.appName('ml-bank').getOrCreate()\n",
        "df = spark.read.csv(dataset, header = True, inferSchema = True) "
      ],
      "execution_count": 0,
      "outputs": []
    },
    {
      "cell_type": "code",
      "metadata": {
        "colab_type": "code",
        "id": "XJGWVc0yB0UA",
        "outputId": "e563b0b0-e532-4c73-b841-ed4564dd4e9a",
        "colab": {
          "base_uri": "https://localhost:8080/",
          "height": 340
        }
      },
      "source": [
        "# Check data distribution\n",
        "# You may use printSchema()\n",
        "df.printSchema() "
      ],
      "execution_count": 0,
      "outputs": [
        {
          "output_type": "stream",
          "text": [
            "root\n",
            " |-- age: integer (nullable = true)\n",
            " |-- job: string (nullable = true)\n",
            " |-- marital: string (nullable = true)\n",
            " |-- education: string (nullable = true)\n",
            " |-- default: string (nullable = true)\n",
            " |-- balance: integer (nullable = true)\n",
            " |-- housing: string (nullable = true)\n",
            " |-- loan: string (nullable = true)\n",
            " |-- contact: string (nullable = true)\n",
            " |-- day: integer (nullable = true)\n",
            " |-- month: string (nullable = true)\n",
            " |-- duration: integer (nullable = true)\n",
            " |-- campaign: integer (nullable = true)\n",
            " |-- pdays: integer (nullable = true)\n",
            " |-- previous: integer (nullable = true)\n",
            " |-- poutcome: string (nullable = true)\n",
            " |-- deposit: string (nullable = true)\n",
            "\n"
          ],
          "name": "stdout"
        }
      ]
    },
    {
      "cell_type": "markdown",
      "metadata": {
        "colab_type": "text",
        "id": "wKQMhrtFChHa"
      },
      "source": [
        "# 3.Select features"
      ]
    },
    {
      "cell_type": "code",
      "metadata": {
        "colab_type": "code",
        "id": "VU5xMqN_RyM2",
        "colab": {}
      },
      "source": [
        "#Select features ('age', 'job', 'marital', 'education', 'default', 'balance', 'housing', 'loan', 'campaign', 'pdays', 'previous', 'poutcome', 'deposit') as df2\n",
        "df2 = df.select('age', 'job', 'marital', 'education', 'default', 'balance', 'housing', 'loan', 'campaign', 'pdays', 'previous', 'poutcome', 'deposit')"
      ],
      "execution_count": 0,
      "outputs": []
    },
    {
      "cell_type": "code",
      "metadata": {
        "colab_type": "code",
        "id": "vwF5sqRYa_eI",
        "outputId": "aa66b762-9c92-4b43-8ef9-885aacf90a29",
        "colab": {
          "base_uri": "https://localhost:8080/",
          "height": 476
        }
      },
      "source": [
        "#Remove invalid rows/records using spark.sql \n",
        "filtered_df = df2.filter(~(df2.job.isin('unknown') | df2.education.isin('unknown') | df2.poutcome.isin('unknown') | df2.poutcome.isin('other')))\n",
        "filtered_df.show()\n",
        "filtered_df.count()"
      ],
      "execution_count": 0,
      "outputs": [
        {
          "output_type": "stream",
          "text": [
            "+---+------------+--------+---------+-------+-------+-------+----+--------+-----+--------+--------+-------+\n",
            "|age|         job| marital|education|default|balance|housing|loan|campaign|pdays|previous|poutcome|deposit|\n",
            "+---+------------+--------+---------+-------+-------+-------+----+--------+-----+--------+--------+-------+\n",
            "| 33|    services| married|secondary|     no|   3444|    yes|  no|       1|   91|       4| failure|    yes|\n",
            "| 56|  technician| married|secondary|     no|    589|    yes|  no|       1|  147|       2| success|    yes|\n",
            "| 34|      admin.| married| tertiary|     no|    899|    yes|  no|       1|  170|       3| failure|    yes|\n",
            "| 53|     retired| married| tertiary|     no|   2269|     no|  no|       2|  150|       1| success|    yes|\n",
            "| 37|  technician| married|secondary|     no|   5115|    yes|  no|       2|  171|       4| failure|    yes|\n",
            "| 45|entrepreneur| married|secondary|     no|    781|     no| yes|       2|  126|       2| failure|    yes|\n",
            "| 46|  unemployed|divorced|secondary|     no|   3354|    yes|  no|       1|  174|       1| success|    yes|\n",
            "| 40|  management| married| tertiary|     no|   3352|    yes|  no|       2|   27|       1| success|    yes|\n",
            "| 32|  technician| married| tertiary|     no|   4654|    yes| yes|       1|  128|       2| failure|    yes|\n",
            "| 30| blue-collar| married|secondary|     no|    501|    yes| yes|       1|  177|       1| failure|    yes|\n",
            "| 46|  technician| married| tertiary|     no|      0|     no|  no|       1|  167|       1| failure|    yes|\n",
            "| 38|entrepreneur| married| tertiary|     no|   1110|    yes|  no|       2|  183|       2| failure|    yes|\n",
            "| 32|    services| married|secondary|     no|    983|    yes|  no|       2|  133|       1| failure|    yes|\n",
            "| 31|  unemployed| married|secondary|     no|    314|    yes|  no|       3|  178|       7| failure|    yes|\n",
            "| 50| blue-collar| married|  primary|     no|  12519|    yes|  no|       3|   34|       1| failure|    yes|\n",
            "| 47|  technician| married|secondary|     no|      0|     no|  no|       1|   10|       1| failure|    yes|\n",
            "| 59|  management| married| tertiary|     no|   7049|     no|  no|       1|  163|       2| failure|    yes|\n",
            "| 31|  management| married|secondary|     no|   8629|    yes|  no|       1|  184|       2| failure|    yes|\n",
            "| 53| blue-collar| married|secondary|     no|   1777|    yes|  no|       5|  154|       1| failure|    yes|\n",
            "| 40|  technician|  single| tertiary|     no|   1646|    yes|  no|       1|  242|       2| failure|    yes|\n",
            "+---+------------+--------+---------+-------+-------+-------+----+--------+-----+--------+--------+-------+\n",
            "only showing top 20 rows\n",
            "\n"
          ],
          "name": "stdout"
        },
        {
          "output_type": "execute_result",
          "data": {
            "text/plain": [
              "2181"
            ]
          },
          "metadata": {
            "tags": []
          },
          "execution_count": 68
        }
      ]
    },
    {
      "cell_type": "code",
      "metadata": {
        "colab_type": "code",
        "id": "A_T8qvxzR-oI",
        "colab": {}
      },
      "source": [
        "#Covert categorical features to metric features using One hot encoding\n",
        "from pyspark.ml.feature import OneHotEncoderEstimator, StringIndexer, VectorAssembler\n",
        "from pyspark.ml import Pipeline\n",
        "categoricalColumns = ['job', 'marital', 'education', 'default', 'housing', 'loan', 'poutcome']\n",
        "cols=filtered_df.columns\n",
        "stages = []\n",
        "for categoricalCol in categoricalColumns:\n",
        "    stringIndexer = StringIndexer(inputCol = categoricalCol, outputCol = categoricalCol + 'Index')\n",
        "    encoder = OneHotEncoderEstimator(inputCols=[stringIndexer.getOutputCol()], outputCols=[categoricalCol + \"classVec\"])\n",
        "    stages += [stringIndexer, encoder]\n",
        "label_stringIdx = StringIndexer(inputCol = 'deposit', outputCol = 'label')\n",
        "stages += [label_stringIdx]\n",
        "numericCols = ['age', 'balance', 'campaign', 'pdays', 'previous']\n",
        "assemblerInputs = [c + \"classVec\" for c in categoricalColumns] + numericCols\n",
        "assembler = VectorAssembler(inputCols=assemblerInputs, outputCol=\"features\")\n",
        "stages += [assembler]\n",
        "pipeline = Pipeline(stages = stages)\n",
        "pipelineModel = pipeline.fit(filtered_df)\n",
        "ohe_df = pipelineModel.transform(filtered_df)\n",
        "selectedCols = ['label', 'features'] + cols\n",
        "ohe_df = ohe_df.select(selectedCols)"
      ],
      "execution_count": 0,
      "outputs": []
    },
    {
      "cell_type": "code",
      "metadata": {
        "id": "lydRYpsiOmjJ",
        "colab_type": "code",
        "outputId": "5a684b66-493d-4095-c92f-aef294fa0cf9",
        "colab": {
          "base_uri": "https://localhost:8080/",
          "height": 687
        }
      },
      "source": [
        "import pandas as pd\n",
        "pd.DataFrame(ohe_df.take(20), columns=ohe_df.columns).transpose()"
      ],
      "execution_count": 0,
      "outputs": [
        {
          "output_type": "execute_result",
          "data": {
            "text/html": [
              "<div>\n",
              "<style scoped>\n",
              "    .dataframe tbody tr th:only-of-type {\n",
              "        vertical-align: middle;\n",
              "    }\n",
              "\n",
              "    .dataframe tbody tr th {\n",
              "        vertical-align: top;\n",
              "    }\n",
              "\n",
              "    .dataframe thead th {\n",
              "        text-align: right;\n",
              "    }\n",
              "</style>\n",
              "<table border=\"1\" class=\"dataframe\">\n",
              "  <thead>\n",
              "    <tr style=\"text-align: right;\">\n",
              "      <th></th>\n",
              "      <th>0</th>\n",
              "      <th>1</th>\n",
              "      <th>2</th>\n",
              "      <th>3</th>\n",
              "      <th>4</th>\n",
              "      <th>5</th>\n",
              "      <th>6</th>\n",
              "      <th>7</th>\n",
              "      <th>8</th>\n",
              "      <th>9</th>\n",
              "      <th>10</th>\n",
              "      <th>11</th>\n",
              "      <th>12</th>\n",
              "      <th>13</th>\n",
              "      <th>14</th>\n",
              "      <th>15</th>\n",
              "      <th>16</th>\n",
              "      <th>17</th>\n",
              "      <th>18</th>\n",
              "      <th>19</th>\n",
              "    </tr>\n",
              "  </thead>\n",
              "  <tbody>\n",
              "    <tr>\n",
              "      <th>label</th>\n",
              "      <td>0</td>\n",
              "      <td>0</td>\n",
              "      <td>0</td>\n",
              "      <td>0</td>\n",
              "      <td>0</td>\n",
              "      <td>0</td>\n",
              "      <td>0</td>\n",
              "      <td>0</td>\n",
              "      <td>0</td>\n",
              "      <td>0</td>\n",
              "      <td>0</td>\n",
              "      <td>0</td>\n",
              "      <td>0</td>\n",
              "      <td>0</td>\n",
              "      <td>0</td>\n",
              "      <td>0</td>\n",
              "      <td>0</td>\n",
              "      <td>0</td>\n",
              "      <td>0</td>\n",
              "      <td>0</td>\n",
              "    </tr>\n",
              "    <tr>\n",
              "      <th>features</th>\n",
              "      <td>(0.0, 0.0, 0.0, 0.0, 0.0, 1.0, 0.0, 0.0, 0.0, ...</td>\n",
              "      <td>(0.0, 1.0, 0.0, 0.0, 0.0, 0.0, 0.0, 0.0, 0.0, ...</td>\n",
              "      <td>(0.0, 0.0, 1.0, 0.0, 0.0, 0.0, 0.0, 0.0, 0.0, ...</td>\n",
              "      <td>(0.0, 0.0, 0.0, 0.0, 1.0, 0.0, 0.0, 0.0, 0.0, ...</td>\n",
              "      <td>(0.0, 1.0, 0.0, 0.0, 0.0, 0.0, 0.0, 0.0, 0.0, ...</td>\n",
              "      <td>(0.0, 0.0, 0.0, 0.0, 0.0, 0.0, 0.0, 0.0, 0.0, ...</td>\n",
              "      <td>(0.0, 0.0, 0.0, 0.0, 0.0, 0.0, 0.0, 1.0, 0.0, ...</td>\n",
              "      <td>(1.0, 0.0, 0.0, 0.0, 0.0, 0.0, 0.0, 0.0, 0.0, ...</td>\n",
              "      <td>(0.0, 1.0, 0.0, 0.0, 0.0, 0.0, 0.0, 0.0, 0.0, ...</td>\n",
              "      <td>(0.0, 0.0, 0.0, 1.0, 0.0, 0.0, 0.0, 0.0, 0.0, ...</td>\n",
              "      <td>(0.0, 1.0, 0.0, 0.0, 0.0, 0.0, 0.0, 0.0, 0.0, ...</td>\n",
              "      <td>(0.0, 0.0, 0.0, 0.0, 0.0, 0.0, 0.0, 0.0, 0.0, ...</td>\n",
              "      <td>(0.0, 0.0, 0.0, 0.0, 0.0, 1.0, 0.0, 0.0, 0.0, ...</td>\n",
              "      <td>(0.0, 0.0, 0.0, 0.0, 0.0, 0.0, 0.0, 1.0, 0.0, ...</td>\n",
              "      <td>(0.0, 0.0, 0.0, 1.0, 0.0, 0.0, 0.0, 0.0, 0.0, ...</td>\n",
              "      <td>(0.0, 1.0, 0.0, 0.0, 0.0, 0.0, 0.0, 0.0, 0.0, ...</td>\n",
              "      <td>(1.0, 0.0, 0.0, 0.0, 0.0, 0.0, 0.0, 0.0, 0.0, ...</td>\n",
              "      <td>(1.0, 0.0, 0.0, 0.0, 0.0, 0.0, 0.0, 0.0, 0.0, ...</td>\n",
              "      <td>(0.0, 0.0, 0.0, 1.0, 0.0, 0.0, 0.0, 0.0, 0.0, ...</td>\n",
              "      <td>(0.0, 1.0, 0.0, 0.0, 0.0, 0.0, 0.0, 0.0, 0.0, ...</td>\n",
              "    </tr>\n",
              "    <tr>\n",
              "      <th>age</th>\n",
              "      <td>33</td>\n",
              "      <td>56</td>\n",
              "      <td>34</td>\n",
              "      <td>53</td>\n",
              "      <td>37</td>\n",
              "      <td>45</td>\n",
              "      <td>46</td>\n",
              "      <td>40</td>\n",
              "      <td>32</td>\n",
              "      <td>30</td>\n",
              "      <td>46</td>\n",
              "      <td>38</td>\n",
              "      <td>32</td>\n",
              "      <td>31</td>\n",
              "      <td>50</td>\n",
              "      <td>47</td>\n",
              "      <td>59</td>\n",
              "      <td>31</td>\n",
              "      <td>53</td>\n",
              "      <td>40</td>\n",
              "    </tr>\n",
              "    <tr>\n",
              "      <th>job</th>\n",
              "      <td>services</td>\n",
              "      <td>technician</td>\n",
              "      <td>admin.</td>\n",
              "      <td>retired</td>\n",
              "      <td>technician</td>\n",
              "      <td>entrepreneur</td>\n",
              "      <td>unemployed</td>\n",
              "      <td>management</td>\n",
              "      <td>technician</td>\n",
              "      <td>blue-collar</td>\n",
              "      <td>technician</td>\n",
              "      <td>entrepreneur</td>\n",
              "      <td>services</td>\n",
              "      <td>unemployed</td>\n",
              "      <td>blue-collar</td>\n",
              "      <td>technician</td>\n",
              "      <td>management</td>\n",
              "      <td>management</td>\n",
              "      <td>blue-collar</td>\n",
              "      <td>technician</td>\n",
              "    </tr>\n",
              "    <tr>\n",
              "      <th>marital</th>\n",
              "      <td>married</td>\n",
              "      <td>married</td>\n",
              "      <td>married</td>\n",
              "      <td>married</td>\n",
              "      <td>married</td>\n",
              "      <td>married</td>\n",
              "      <td>divorced</td>\n",
              "      <td>married</td>\n",
              "      <td>married</td>\n",
              "      <td>married</td>\n",
              "      <td>married</td>\n",
              "      <td>married</td>\n",
              "      <td>married</td>\n",
              "      <td>married</td>\n",
              "      <td>married</td>\n",
              "      <td>married</td>\n",
              "      <td>married</td>\n",
              "      <td>married</td>\n",
              "      <td>married</td>\n",
              "      <td>single</td>\n",
              "    </tr>\n",
              "    <tr>\n",
              "      <th>education</th>\n",
              "      <td>secondary</td>\n",
              "      <td>secondary</td>\n",
              "      <td>tertiary</td>\n",
              "      <td>tertiary</td>\n",
              "      <td>secondary</td>\n",
              "      <td>secondary</td>\n",
              "      <td>secondary</td>\n",
              "      <td>tertiary</td>\n",
              "      <td>tertiary</td>\n",
              "      <td>secondary</td>\n",
              "      <td>tertiary</td>\n",
              "      <td>tertiary</td>\n",
              "      <td>secondary</td>\n",
              "      <td>secondary</td>\n",
              "      <td>primary</td>\n",
              "      <td>secondary</td>\n",
              "      <td>tertiary</td>\n",
              "      <td>secondary</td>\n",
              "      <td>secondary</td>\n",
              "      <td>tertiary</td>\n",
              "    </tr>\n",
              "    <tr>\n",
              "      <th>default</th>\n",
              "      <td>no</td>\n",
              "      <td>no</td>\n",
              "      <td>no</td>\n",
              "      <td>no</td>\n",
              "      <td>no</td>\n",
              "      <td>no</td>\n",
              "      <td>no</td>\n",
              "      <td>no</td>\n",
              "      <td>no</td>\n",
              "      <td>no</td>\n",
              "      <td>no</td>\n",
              "      <td>no</td>\n",
              "      <td>no</td>\n",
              "      <td>no</td>\n",
              "      <td>no</td>\n",
              "      <td>no</td>\n",
              "      <td>no</td>\n",
              "      <td>no</td>\n",
              "      <td>no</td>\n",
              "      <td>no</td>\n",
              "    </tr>\n",
              "    <tr>\n",
              "      <th>balance</th>\n",
              "      <td>3444</td>\n",
              "      <td>589</td>\n",
              "      <td>899</td>\n",
              "      <td>2269</td>\n",
              "      <td>5115</td>\n",
              "      <td>781</td>\n",
              "      <td>3354</td>\n",
              "      <td>3352</td>\n",
              "      <td>4654</td>\n",
              "      <td>501</td>\n",
              "      <td>0</td>\n",
              "      <td>1110</td>\n",
              "      <td>983</td>\n",
              "      <td>314</td>\n",
              "      <td>12519</td>\n",
              "      <td>0</td>\n",
              "      <td>7049</td>\n",
              "      <td>8629</td>\n",
              "      <td>1777</td>\n",
              "      <td>1646</td>\n",
              "    </tr>\n",
              "    <tr>\n",
              "      <th>housing</th>\n",
              "      <td>yes</td>\n",
              "      <td>yes</td>\n",
              "      <td>yes</td>\n",
              "      <td>no</td>\n",
              "      <td>yes</td>\n",
              "      <td>no</td>\n",
              "      <td>yes</td>\n",
              "      <td>yes</td>\n",
              "      <td>yes</td>\n",
              "      <td>yes</td>\n",
              "      <td>no</td>\n",
              "      <td>yes</td>\n",
              "      <td>yes</td>\n",
              "      <td>yes</td>\n",
              "      <td>yes</td>\n",
              "      <td>no</td>\n",
              "      <td>no</td>\n",
              "      <td>yes</td>\n",
              "      <td>yes</td>\n",
              "      <td>yes</td>\n",
              "    </tr>\n",
              "    <tr>\n",
              "      <th>loan</th>\n",
              "      <td>no</td>\n",
              "      <td>no</td>\n",
              "      <td>no</td>\n",
              "      <td>no</td>\n",
              "      <td>no</td>\n",
              "      <td>yes</td>\n",
              "      <td>no</td>\n",
              "      <td>no</td>\n",
              "      <td>yes</td>\n",
              "      <td>yes</td>\n",
              "      <td>no</td>\n",
              "      <td>no</td>\n",
              "      <td>no</td>\n",
              "      <td>no</td>\n",
              "      <td>no</td>\n",
              "      <td>no</td>\n",
              "      <td>no</td>\n",
              "      <td>no</td>\n",
              "      <td>no</td>\n",
              "      <td>no</td>\n",
              "    </tr>\n",
              "    <tr>\n",
              "      <th>campaign</th>\n",
              "      <td>1</td>\n",
              "      <td>1</td>\n",
              "      <td>1</td>\n",
              "      <td>2</td>\n",
              "      <td>2</td>\n",
              "      <td>2</td>\n",
              "      <td>1</td>\n",
              "      <td>2</td>\n",
              "      <td>1</td>\n",
              "      <td>1</td>\n",
              "      <td>1</td>\n",
              "      <td>2</td>\n",
              "      <td>2</td>\n",
              "      <td>3</td>\n",
              "      <td>3</td>\n",
              "      <td>1</td>\n",
              "      <td>1</td>\n",
              "      <td>1</td>\n",
              "      <td>5</td>\n",
              "      <td>1</td>\n",
              "    </tr>\n",
              "    <tr>\n",
              "      <th>pdays</th>\n",
              "      <td>91</td>\n",
              "      <td>147</td>\n",
              "      <td>170</td>\n",
              "      <td>150</td>\n",
              "      <td>171</td>\n",
              "      <td>126</td>\n",
              "      <td>174</td>\n",
              "      <td>27</td>\n",
              "      <td>128</td>\n",
              "      <td>177</td>\n",
              "      <td>167</td>\n",
              "      <td>183</td>\n",
              "      <td>133</td>\n",
              "      <td>178</td>\n",
              "      <td>34</td>\n",
              "      <td>10</td>\n",
              "      <td>163</td>\n",
              "      <td>184</td>\n",
              "      <td>154</td>\n",
              "      <td>242</td>\n",
              "    </tr>\n",
              "    <tr>\n",
              "      <th>previous</th>\n",
              "      <td>4</td>\n",
              "      <td>2</td>\n",
              "      <td>3</td>\n",
              "      <td>1</td>\n",
              "      <td>4</td>\n",
              "      <td>2</td>\n",
              "      <td>1</td>\n",
              "      <td>1</td>\n",
              "      <td>2</td>\n",
              "      <td>1</td>\n",
              "      <td>1</td>\n",
              "      <td>2</td>\n",
              "      <td>1</td>\n",
              "      <td>7</td>\n",
              "      <td>1</td>\n",
              "      <td>1</td>\n",
              "      <td>2</td>\n",
              "      <td>2</td>\n",
              "      <td>1</td>\n",
              "      <td>2</td>\n",
              "    </tr>\n",
              "    <tr>\n",
              "      <th>poutcome</th>\n",
              "      <td>failure</td>\n",
              "      <td>success</td>\n",
              "      <td>failure</td>\n",
              "      <td>success</td>\n",
              "      <td>failure</td>\n",
              "      <td>failure</td>\n",
              "      <td>success</td>\n",
              "      <td>success</td>\n",
              "      <td>failure</td>\n",
              "      <td>failure</td>\n",
              "      <td>failure</td>\n",
              "      <td>failure</td>\n",
              "      <td>failure</td>\n",
              "      <td>failure</td>\n",
              "      <td>failure</td>\n",
              "      <td>failure</td>\n",
              "      <td>failure</td>\n",
              "      <td>failure</td>\n",
              "      <td>failure</td>\n",
              "      <td>failure</td>\n",
              "    </tr>\n",
              "    <tr>\n",
              "      <th>deposit</th>\n",
              "      <td>yes</td>\n",
              "      <td>yes</td>\n",
              "      <td>yes</td>\n",
              "      <td>yes</td>\n",
              "      <td>yes</td>\n",
              "      <td>yes</td>\n",
              "      <td>yes</td>\n",
              "      <td>yes</td>\n",
              "      <td>yes</td>\n",
              "      <td>yes</td>\n",
              "      <td>yes</td>\n",
              "      <td>yes</td>\n",
              "      <td>yes</td>\n",
              "      <td>yes</td>\n",
              "      <td>yes</td>\n",
              "      <td>yes</td>\n",
              "      <td>yes</td>\n",
              "      <td>yes</td>\n",
              "      <td>yes</td>\n",
              "      <td>yes</td>\n",
              "    </tr>\n",
              "  </tbody>\n",
              "</table>\n",
              "</div>"
            ],
            "text/plain": [
              "                                                          0   ...                                                 19\n",
              "label                                                      0  ...                                                  0\n",
              "features   (0.0, 0.0, 0.0, 0.0, 0.0, 1.0, 0.0, 0.0, 0.0, ...  ...  (0.0, 1.0, 0.0, 0.0, 0.0, 0.0, 0.0, 0.0, 0.0, ...\n",
              "age                                                       33  ...                                                 40\n",
              "job                                                 services  ...                                         technician\n",
              "marital                                              married  ...                                             single\n",
              "education                                          secondary  ...                                           tertiary\n",
              "default                                                   no  ...                                                 no\n",
              "balance                                                 3444  ...                                               1646\n",
              "housing                                                  yes  ...                                                yes\n",
              "loan                                                      no  ...                                                 no\n",
              "campaign                                                   1  ...                                                  1\n",
              "pdays                                                     91  ...                                                242\n",
              "previous                                                   4  ...                                                  2\n",
              "poutcome                                             failure  ...                                            failure\n",
              "deposit                                                  yes  ...                                                yes\n",
              "\n",
              "[15 rows x 20 columns]"
            ]
          },
          "metadata": {
            "tags": []
          },
          "execution_count": 71
        }
      ]
    },
    {
      "cell_type": "markdown",
      "metadata": {
        "colab_type": "text",
        "id": "pOqHERYJCQuC"
      },
      "source": [
        "## 3.1 normalisation"
      ]
    },
    {
      "cell_type": "code",
      "metadata": {
        "colab_type": "code",
        "id": "cfL6_sca5VwI",
        "colab": {}
      },
      "source": [
        "#Apply Min-Max normalisation on each attribute using MinMaxScaler  \n",
        "from pyspark.ml.feature import MinMaxScaler  \n",
        "scaled_df = MinMaxScaler(inputCol=\"features\", outputCol=\"scaled_features\").fit(ohe_df).transform(ohe_df)"
      ],
      "execution_count": 0,
      "outputs": []
    },
    {
      "cell_type": "code",
      "metadata": {
        "id": "3hjAZepSdeqX",
        "colab_type": "code",
        "outputId": "8386f6e3-4231-4fa2-e838-96c0ac335166",
        "colab": {
          "base_uri": "https://localhost:8080/",
          "height": 459
        }
      },
      "source": [
        "scaled_df.show()"
      ],
      "execution_count": 0,
      "outputs": [
        {
          "output_type": "stream",
          "text": [
            "+-----+--------------------+---+------------+--------+---------+-------+-------+-------+----+--------+-----+--------+--------+-------+--------------------+\n",
            "|label|            features|age|         job| marital|education|default|balance|housing|loan|campaign|pdays|previous|poutcome|deposit|     scaled_features|\n",
            "+-----+--------------------+---+------------+--------+---------+-------+-------+-------+----+--------+-----+--------+--------+-------+--------------------+\n",
            "|  0.0|(23,[5,10,12,14,1...| 33|    services| married|secondary|     no|   3444|    yes|  no|       1|   91|       4| failure|    yes|[0.0,0.0,0.0,0.0,...|\n",
            "|  0.0|(23,[1,10,12,14,1...| 56|  technician| married|secondary|     no|    589|    yes|  no|       1|  147|       2| success|    yes|[0.0,1.0,0.0,0.0,...|\n",
            "|  0.0|(23,[2,10,13,14,1...| 34|      admin.| married| tertiary|     no|    899|    yes|  no|       1|  170|       3| failure|    yes|[0.0,0.0,1.0,0.0,...|\n",
            "|  0.0|(23,[4,10,13,14,1...| 53|     retired| married| tertiary|     no|   2269|     no|  no|       2|  150|       1| success|    yes|[0.0,0.0,0.0,0.0,...|\n",
            "|  0.0|(23,[1,10,12,14,1...| 37|  technician| married|secondary|     no|   5115|    yes|  no|       2|  171|       4| failure|    yes|[0.0,1.0,0.0,0.0,...|\n",
            "|  0.0|(23,[9,10,12,14,1...| 45|entrepreneur| married|secondary|     no|    781|     no| yes|       2|  126|       2| failure|    yes|[0.0,0.0,0.0,0.0,...|\n",
            "|  0.0|(23,[7,12,14,16,1...| 46|  unemployed|divorced|secondary|     no|   3354|    yes|  no|       1|  174|       1| success|    yes|[0.0,0.0,0.0,0.0,...|\n",
            "|  0.0|(23,[0,10,13,14,1...| 40|  management| married| tertiary|     no|   3352|    yes|  no|       2|   27|       1| success|    yes|[1.0,0.0,0.0,0.0,...|\n",
            "|  0.0|(23,[1,10,13,14,1...| 32|  technician| married| tertiary|     no|   4654|    yes| yes|       1|  128|       2| failure|    yes|[0.0,1.0,0.0,0.0,...|\n",
            "|  0.0|(23,[3,10,12,14,1...| 30| blue-collar| married|secondary|     no|    501|    yes| yes|       1|  177|       1| failure|    yes|[0.0,0.0,0.0,1.0,...|\n",
            "|  0.0|(23,[1,10,13,14,1...| 46|  technician| married| tertiary|     no|      0|     no|  no|       1|  167|       1| failure|    yes|[0.0,1.0,0.0,0.0,...|\n",
            "|  0.0|(23,[9,10,13,14,1...| 38|entrepreneur| married| tertiary|     no|   1110|    yes|  no|       2|  183|       2| failure|    yes|[0.0,0.0,0.0,0.0,...|\n",
            "|  0.0|(23,[5,10,12,14,1...| 32|    services| married|secondary|     no|    983|    yes|  no|       2|  133|       1| failure|    yes|[0.0,0.0,0.0,0.0,...|\n",
            "|  0.0|(23,[7,10,12,14,1...| 31|  unemployed| married|secondary|     no|    314|    yes|  no|       3|  178|       7| failure|    yes|[0.0,0.0,0.0,0.0,...|\n",
            "|  0.0|(23,[3,10,14,16,1...| 50| blue-collar| married|  primary|     no|  12519|    yes|  no|       3|   34|       1| failure|    yes|[0.0,0.0,0.0,1.0,...|\n",
            "|  0.0|(23,[1,10,12,14,1...| 47|  technician| married|secondary|     no|      0|     no|  no|       1|   10|       1| failure|    yes|[0.0,1.0,0.0,0.0,...|\n",
            "|  0.0|(23,[0,10,13,14,1...| 59|  management| married| tertiary|     no|   7049|     no|  no|       1|  163|       2| failure|    yes|[1.0,0.0,0.0,0.0,...|\n",
            "|  0.0|(23,[0,10,12,14,1...| 31|  management| married|secondary|     no|   8629|    yes|  no|       1|  184|       2| failure|    yes|[1.0,0.0,0.0,0.0,...|\n",
            "|  0.0|(23,[3,10,12,14,1...| 53| blue-collar| married|secondary|     no|   1777|    yes|  no|       5|  154|       1| failure|    yes|[0.0,0.0,0.0,1.0,...|\n",
            "|  0.0|(23,[1,11,13,14,1...| 40|  technician|  single| tertiary|     no|   1646|    yes|  no|       1|  242|       2| failure|    yes|[0.0,1.0,0.0,0.0,...|\n",
            "+-----+--------------------+---+------------+--------+---------+-------+-------+-------+----+--------+-----+--------+--------+-------+--------------------+\n",
            "only showing top 20 rows\n",
            "\n"
          ],
          "name": "stdout"
        }
      ]
    },
    {
      "cell_type": "markdown",
      "metadata": {
        "colab_type": "text",
        "id": "9trUY7ZgCzhW"
      },
      "source": [
        "# 4.Unsupervised learning"
      ]
    },
    {
      "cell_type": "markdown",
      "metadata": {
        "colab_type": "text",
        "id": "KTQfUch2Cmmi"
      },
      "source": [
        "## 4.1 K-means"
      ]
    },
    {
      "cell_type": "code",
      "metadata": {
        "colab_type": "code",
        "id": "dGGZI70Ohqgg",
        "outputId": "ed8388c2-c559-4fd1-9c8e-073f831875c3",
        "colab": {
          "base_uri": "https://localhost:8080/",
          "height": 34
        }
      },
      "source": [
        "# Perform unsupervised learning on df2 with k-means \n",
        "# You can use whole df2 as both training and testing data, \n",
        "# Evaluate the clustering result using Accuracy.  \n",
        "from pyspark.ml.clustering import KMeans\n",
        "from pyspark.ml.evaluation import ClusteringEvaluator\n",
        "from pyspark.ml.evaluation import MulticlassClassificationEvaluator\n",
        "from pyspark.ml.evaluation import BinaryClassificationEvaluator \n",
        "\n",
        "kmeans = KMeans().setK(2)\n",
        "model = kmeans.fit(scaled_df)\n",
        "predictions = model.transform(scaled_df)\n",
        "print(\"silhouette value \" + str(ClusteringEvaluator().evaluate(predictions)))"
      ],
      "execution_count": 0,
      "outputs": [
        {
          "output_type": "stream",
          "text": [
            "silhouette value 0.9186436591342558\n"
          ],
          "name": "stdout"
        }
      ]
    },
    {
      "cell_type": "markdown",
      "metadata": {
        "colab_type": "text",
        "id": "FHom8o2KCt36"
      },
      "source": [
        "## 4.2 PCA"
      ]
    },
    {
      "cell_type": "code",
      "metadata": {
        "colab_type": "code",
        "id": "wT4cx5uGTjmj",
        "colab": {}
      },
      "source": [
        "#Generate a scatter plot using the first two PCA components to investigate the data distribution.\n",
        "from pyspark.ml.feature import PCA\n",
        "pca = PCA(k=2, inputCol=\"scaled_features\", outputCol=\"pca_features\")\n",
        "output = pca.fit(scaled_df).transform(scaled_df).select(\"pca_features\")"
      ],
      "execution_count": 0,
      "outputs": []
    },
    {
      "cell_type": "code",
      "metadata": {
        "id": "2VR8XW9IeqDQ",
        "colab_type": "code",
        "outputId": "852deff0-207d-49a9-9d5c-c8f8d94ef492",
        "colab": {
          "base_uri": "https://localhost:8080/",
          "height": 459
        }
      },
      "source": [
        "output.show()"
      ],
      "execution_count": 0,
      "outputs": [
        {
          "output_type": "stream",
          "text": [
            "+--------------------+\n",
            "|        pca_features|\n",
            "+--------------------+\n",
            "|[0.96364248505160...|\n",
            "|[0.83734101836268...|\n",
            "|[-0.1084500265257...|\n",
            "|[-0.4795609426700...|\n",
            "|[0.95767948650617...|\n",
            "|[0.78790279189690...|\n",
            "|[0.51243046926688...|\n",
            "|[-0.7369547765884...|\n",
            "|[-0.1028260652716...|\n",
            "|[1.06615145941459...|\n",
            "|[-0.3247429463401...|\n",
            "|[-0.2109752165189...|\n",
            "|[0.96439157020120...|\n",
            "|[0.89700320059017...|\n",
            "|[0.47244006359864...|\n",
            "|[0.78408608927661...|\n",
            "|[-0.7640855001185...|\n",
            "|[0.50781947141051...|\n",
            "|[1.02098210832885...|\n",
            "|[-0.6823665987365...|\n",
            "+--------------------+\n",
            "only showing top 20 rows\n",
            "\n"
          ],
          "name": "stdout"
        }
      ]
    },
    {
      "cell_type": "code",
      "metadata": {
        "id": "WIJRB8CkfRRS",
        "colab_type": "code",
        "outputId": "21cbce43-a799-4695-93d2-a954f1343d9e",
        "colab": {
          "base_uri": "https://localhost:8080/",
          "height": 1969
        }
      },
      "source": [
        "res = output.toPandas()\n",
        "res"
      ],
      "execution_count": 0,
      "outputs": [
        {
          "output_type": "execute_result",
          "data": {
            "text/html": [
              "<div>\n",
              "<style scoped>\n",
              "    .dataframe tbody tr th:only-of-type {\n",
              "        vertical-align: middle;\n",
              "    }\n",
              "\n",
              "    .dataframe tbody tr th {\n",
              "        vertical-align: top;\n",
              "    }\n",
              "\n",
              "    .dataframe thead th {\n",
              "        text-align: right;\n",
              "    }\n",
              "</style>\n",
              "<table border=\"1\" class=\"dataframe\">\n",
              "  <thead>\n",
              "    <tr style=\"text-align: right;\">\n",
              "      <th></th>\n",
              "      <th>pca_features</th>\n",
              "    </tr>\n",
              "  </thead>\n",
              "  <tbody>\n",
              "    <tr>\n",
              "      <th>0</th>\n",
              "      <td>[0.9636424850516068, 0.3313811478935345]</td>\n",
              "    </tr>\n",
              "    <tr>\n",
              "      <th>1</th>\n",
              "      <td>[0.8373410183626885, 0.3880024159205323]</td>\n",
              "    </tr>\n",
              "    <tr>\n",
              "      <th>2</th>\n",
              "      <td>[-0.10845002652578276, 0.6564023408615134]</td>\n",
              "    </tr>\n",
              "    <tr>\n",
              "      <th>3</th>\n",
              "      <td>[-0.479560942670008, 1.1082617061107987]</td>\n",
              "    </tr>\n",
              "    <tr>\n",
              "      <th>4</th>\n",
              "      <td>[0.9576794865061756, 0.2714643678687506]</td>\n",
              "    </tr>\n",
              "    <tr>\n",
              "      <th>5</th>\n",
              "      <td>[0.7879027918969023, 0.5145147352059565]</td>\n",
              "    </tr>\n",
              "    <tr>\n",
              "      <th>6</th>\n",
              "      <td>[0.5124304692668866, -0.1917648708243116]</td>\n",
              "    </tr>\n",
              "    <tr>\n",
              "      <th>7</th>\n",
              "      <td>[-0.7369547765884317, 1.0356901001261056]</td>\n",
              "    </tr>\n",
              "    <tr>\n",
              "      <th>8</th>\n",
              "      <td>[-0.10282606527163515, 0.671822806010155]</td>\n",
              "    </tr>\n",
              "    <tr>\n",
              "      <th>9</th>\n",
              "      <td>[1.0661514594145962, 0.3285042864447201]</td>\n",
              "    </tr>\n",
              "    <tr>\n",
              "      <th>10</th>\n",
              "      <td>[-0.32474294634018674, 0.8134787300694735]</td>\n",
              "    </tr>\n",
              "    <tr>\n",
              "      <th>11</th>\n",
              "      <td>[-0.2109752165189983, 0.7625432021333773]</td>\n",
              "    </tr>\n",
              "    <tr>\n",
              "      <th>12</th>\n",
              "      <td>[0.9643915702012056, 0.3276715407315949]</td>\n",
              "    </tr>\n",
              "    <tr>\n",
              "      <th>13</th>\n",
              "      <td>[0.8970032005901719, 0.3514814197107741]</td>\n",
              "    </tr>\n",
              "    <tr>\n",
              "      <th>14</th>\n",
              "      <td>[0.47244006359864477, 0.6034483574148226]</td>\n",
              "    </tr>\n",
              "    <tr>\n",
              "      <th>15</th>\n",
              "      <td>[0.7840860892766188, 0.421458958932977]</td>\n",
              "    </tr>\n",
              "    <tr>\n",
              "      <th>16</th>\n",
              "      <td>[-0.7640855001185652, 1.117508731487764]</td>\n",
              "    </tr>\n",
              "    <tr>\n",
              "      <th>17</th>\n",
              "      <td>[0.5078194714105165, 0.5364599694359978]</td>\n",
              "    </tr>\n",
              "    <tr>\n",
              "      <th>18</th>\n",
              "      <td>[1.020982108328857, 0.36510796039610344]</td>\n",
              "    </tr>\n",
              "    <tr>\n",
              "      <th>19</th>\n",
              "      <td>[-0.6823665987365033, -0.5902523648089859]</td>\n",
              "    </tr>\n",
              "    <tr>\n",
              "      <th>20</th>\n",
              "      <td>[0.9082141068549586, 0.3748523377713937]</td>\n",
              "    </tr>\n",
              "    <tr>\n",
              "      <th>21</th>\n",
              "      <td>[0.5337428600859556, -0.9759730477414024]</td>\n",
              "    </tr>\n",
              "    <tr>\n",
              "      <th>22</th>\n",
              "      <td>[0.7069104719942317, -0.3465890682035332]</td>\n",
              "    </tr>\n",
              "    <tr>\n",
              "      <th>23</th>\n",
              "      <td>[-0.9145230080414188, 1.1404164797913867]</td>\n",
              "    </tr>\n",
              "    <tr>\n",
              "      <th>24</th>\n",
              "      <td>[-0.24188038681574525, 0.7433170483918785]</td>\n",
              "    </tr>\n",
              "    <tr>\n",
              "      <th>25</th>\n",
              "      <td>[0.4756367541886971, -1.013387015033598]</td>\n",
              "    </tr>\n",
              "    <tr>\n",
              "      <th>26</th>\n",
              "      <td>[-0.7645722111920762, -0.49487024647715844]</td>\n",
              "    </tr>\n",
              "    <tr>\n",
              "      <th>27</th>\n",
              "      <td>[-0.8647609242718873, -0.4810915638684239]</td>\n",
              "    </tr>\n",
              "    <tr>\n",
              "      <th>28</th>\n",
              "      <td>[0.36757958823251635, -0.9276733688195762]</td>\n",
              "    </tr>\n",
              "    <tr>\n",
              "      <th>29</th>\n",
              "      <td>[-1.2715078867772074, -0.24820189182953334]</td>\n",
              "    </tr>\n",
              "    <tr>\n",
              "      <th>...</th>\n",
              "      <td>...</td>\n",
              "    </tr>\n",
              "    <tr>\n",
              "      <th>2151</th>\n",
              "      <td>[0.5359808367756991, 0.6075891948373957]</td>\n",
              "    </tr>\n",
              "    <tr>\n",
              "      <th>2152</th>\n",
              "      <td>[-0.5923333451202653, 0.9821992748208619]</td>\n",
              "    </tr>\n",
              "    <tr>\n",
              "      <th>2153</th>\n",
              "      <td>[0.29789308975462014, -0.8758338445262029]</td>\n",
              "    </tr>\n",
              "    <tr>\n",
              "      <th>2154</th>\n",
              "      <td>[0.8284187582751208, 0.33677659042595565]</td>\n",
              "    </tr>\n",
              "    <tr>\n",
              "      <th>2155</th>\n",
              "      <td>[-0.8702349097268225, -0.43212774640539586]</td>\n",
              "    </tr>\n",
              "    <tr>\n",
              "      <th>2156</th>\n",
              "      <td>[-0.16766955443693093, -0.6425516471542361]</td>\n",
              "    </tr>\n",
              "    <tr>\n",
              "      <th>2157</th>\n",
              "      <td>[-1.1314583265901186, -0.33639216996640525]</td>\n",
              "    </tr>\n",
              "    <tr>\n",
              "      <th>2158</th>\n",
              "      <td>[-0.07697121426213052, 0.08629032261654317]</td>\n",
              "    </tr>\n",
              "    <tr>\n",
              "      <th>2159</th>\n",
              "      <td>[0.3712380896284334, 0.634536428212855]</td>\n",
              "    </tr>\n",
              "    <tr>\n",
              "      <th>2160</th>\n",
              "      <td>[1.013560425248371, 0.34228950988875717]</td>\n",
              "    </tr>\n",
              "    <tr>\n",
              "      <th>2161</th>\n",
              "      <td>[0.47885126186287696, 0.5880538810922542]</td>\n",
              "    </tr>\n",
              "    <tr>\n",
              "      <th>2162</th>\n",
              "      <td>[1.004034386045736, 0.2532369353893513]</td>\n",
              "    </tr>\n",
              "    <tr>\n",
              "      <th>2163</th>\n",
              "      <td>[0.965940114207873, 0.3085561004532885]</td>\n",
              "    </tr>\n",
              "    <tr>\n",
              "      <th>2164</th>\n",
              "      <td>[1.0036020032067214, 0.3254615910560402]</td>\n",
              "    </tr>\n",
              "    <tr>\n",
              "      <th>2165</th>\n",
              "      <td>[0.29484648500190797, -0.8856023411476596]</td>\n",
              "    </tr>\n",
              "    <tr>\n",
              "      <th>2166</th>\n",
              "      <td>[1.0704688873287165, 0.2675891337044112]</td>\n",
              "    </tr>\n",
              "    <tr>\n",
              "      <th>2167</th>\n",
              "      <td>[1.0104969350512636, 0.25248620603424243]</td>\n",
              "    </tr>\n",
              "    <tr>\n",
              "      <th>2168</th>\n",
              "      <td>[0.47083578635154816, -1.0093028252798224]</td>\n",
              "    </tr>\n",
              "    <tr>\n",
              "      <th>2169</th>\n",
              "      <td>[0.9592655918754412, 0.2621241080698384]</td>\n",
              "    </tr>\n",
              "    <tr>\n",
              "      <th>2170</th>\n",
              "      <td>[0.25234331081830236, -0.8927891394007191]</td>\n",
              "    </tr>\n",
              "    <tr>\n",
              "      <th>2171</th>\n",
              "      <td>[-0.9017100640395365, -0.43237187106124736]</td>\n",
              "    </tr>\n",
              "    <tr>\n",
              "      <th>2172</th>\n",
              "      <td>[0.43205142485876874, 0.5550587344568633]</td>\n",
              "    </tr>\n",
              "    <tr>\n",
              "      <th>2173</th>\n",
              "      <td>[-0.6780745771021308, -0.5942487195397379]</td>\n",
              "    </tr>\n",
              "    <tr>\n",
              "      <th>2174</th>\n",
              "      <td>[-1.447959609142042, -0.13171422001159858]</td>\n",
              "    </tr>\n",
              "    <tr>\n",
              "      <th>2175</th>\n",
              "      <td>[-0.14484949676708758, 0.738482741887958]</td>\n",
              "    </tr>\n",
              "    <tr>\n",
              "      <th>2176</th>\n",
              "      <td>[0.5226170142927152, 0.5613650839053791]</td>\n",
              "    </tr>\n",
              "    <tr>\n",
              "      <th>2177</th>\n",
              "      <td>[-0.5990937674391276, 0.9448161045283313]</td>\n",
              "    </tr>\n",
              "    <tr>\n",
              "      <th>2178</th>\n",
              "      <td>[-0.60166238169844, 0.38946243386073043]</td>\n",
              "    </tr>\n",
              "    <tr>\n",
              "      <th>2179</th>\n",
              "      <td>[1.0688679802170082, 0.3386150808802839]</td>\n",
              "    </tr>\n",
              "    <tr>\n",
              "      <th>2180</th>\n",
              "      <td>[0.8446415312693968, 0.4183126211465035]</td>\n",
              "    </tr>\n",
              "  </tbody>\n",
              "</table>\n",
              "<p>2181 rows × 1 columns</p>\n",
              "</div>"
            ],
            "text/plain": [
              "                                     pca_features\n",
              "0        [0.9636424850516068, 0.3313811478935345]\n",
              "1        [0.8373410183626885, 0.3880024159205323]\n",
              "2      [-0.10845002652578276, 0.6564023408615134]\n",
              "3        [-0.479560942670008, 1.1082617061107987]\n",
              "4        [0.9576794865061756, 0.2714643678687506]\n",
              "5        [0.7879027918969023, 0.5145147352059565]\n",
              "6       [0.5124304692668866, -0.1917648708243116]\n",
              "7       [-0.7369547765884317, 1.0356901001261056]\n",
              "8       [-0.10282606527163515, 0.671822806010155]\n",
              "9        [1.0661514594145962, 0.3285042864447201]\n",
              "10     [-0.32474294634018674, 0.8134787300694735]\n",
              "11      [-0.2109752165189983, 0.7625432021333773]\n",
              "12       [0.9643915702012056, 0.3276715407315949]\n",
              "13       [0.8970032005901719, 0.3514814197107741]\n",
              "14      [0.47244006359864477, 0.6034483574148226]\n",
              "15        [0.7840860892766188, 0.421458958932977]\n",
              "16       [-0.7640855001185652, 1.117508731487764]\n",
              "17       [0.5078194714105165, 0.5364599694359978]\n",
              "18       [1.020982108328857, 0.36510796039610344]\n",
              "19     [-0.6823665987365033, -0.5902523648089859]\n",
              "20       [0.9082141068549586, 0.3748523377713937]\n",
              "21      [0.5337428600859556, -0.9759730477414024]\n",
              "22      [0.7069104719942317, -0.3465890682035332]\n",
              "23      [-0.9145230080414188, 1.1404164797913867]\n",
              "24     [-0.24188038681574525, 0.7433170483918785]\n",
              "25       [0.4756367541886971, -1.013387015033598]\n",
              "26    [-0.7645722111920762, -0.49487024647715844]\n",
              "27     [-0.8647609242718873, -0.4810915638684239]\n",
              "28     [0.36757958823251635, -0.9276733688195762]\n",
              "29    [-1.2715078867772074, -0.24820189182953334]\n",
              "...                                           ...\n",
              "2151     [0.5359808367756991, 0.6075891948373957]\n",
              "2152    [-0.5923333451202653, 0.9821992748208619]\n",
              "2153   [0.29789308975462014, -0.8758338445262029]\n",
              "2154    [0.8284187582751208, 0.33677659042595565]\n",
              "2155  [-0.8702349097268225, -0.43212774640539586]\n",
              "2156  [-0.16766955443693093, -0.6425516471542361]\n",
              "2157  [-1.1314583265901186, -0.33639216996640525]\n",
              "2158  [-0.07697121426213052, 0.08629032261654317]\n",
              "2159      [0.3712380896284334, 0.634536428212855]\n",
              "2160     [1.013560425248371, 0.34228950988875717]\n",
              "2161    [0.47885126186287696, 0.5880538810922542]\n",
              "2162      [1.004034386045736, 0.2532369353893513]\n",
              "2163      [0.965940114207873, 0.3085561004532885]\n",
              "2164     [1.0036020032067214, 0.3254615910560402]\n",
              "2165   [0.29484648500190797, -0.8856023411476596]\n",
              "2166     [1.0704688873287165, 0.2675891337044112]\n",
              "2167    [1.0104969350512636, 0.25248620603424243]\n",
              "2168   [0.47083578635154816, -1.0093028252798224]\n",
              "2169     [0.9592655918754412, 0.2621241080698384]\n",
              "2170   [0.25234331081830236, -0.8927891394007191]\n",
              "2171  [-0.9017100640395365, -0.43237187106124736]\n",
              "2172    [0.43205142485876874, 0.5550587344568633]\n",
              "2173   [-0.6780745771021308, -0.5942487195397379]\n",
              "2174   [-1.447959609142042, -0.13171422001159858]\n",
              "2175    [-0.14484949676708758, 0.738482741887958]\n",
              "2176     [0.5226170142927152, 0.5613650839053791]\n",
              "2177    [-0.5990937674391276, 0.9448161045283313]\n",
              "2178     [-0.60166238169844, 0.38946243386073043]\n",
              "2179     [1.0688679802170082, 0.3386150808802839]\n",
              "2180     [0.8446415312693968, 0.4183126211465035]\n",
              "\n",
              "[2181 rows x 1 columns]"
            ]
          },
          "metadata": {
            "tags": []
          },
          "execution_count": 88
        }
      ]
    },
    {
      "cell_type": "code",
      "metadata": {
        "id": "SnXzPk-i8Qny",
        "colab_type": "code",
        "colab": {}
      },
      "source": [
        "import numpy\n",
        "pca1=[]\n",
        "pca2=[]\n",
        "for i in range (2181):\n",
        "  pca1 = numpy.append (pca1, res.iloc[i,0][0])\n",
        "\n",
        "for i in range (2181):\n",
        "  pca2 = numpy.append (pca2, res.iloc[i,0][1])\n",
        "  "
      ],
      "execution_count": 0,
      "outputs": []
    },
    {
      "cell_type": "code",
      "metadata": {
        "id": "2LvqZy7QfbOb",
        "colab_type": "code",
        "outputId": "73c73373-b30e-4ef9-a9b8-1032301ee0df",
        "colab": {
          "base_uri": "https://localhost:8080/",
          "height": 286
        }
      },
      "source": [
        "import matplotlib.pyplot as pl\n",
        "pl.scatter(pca1, pca2)"
      ],
      "execution_count": 0,
      "outputs": [
        {
          "output_type": "execute_result",
          "data": {
            "text/plain": [
              "<matplotlib.collections.PathCollection at 0x7fc7da1fe3c8>"
            ]
          },
          "metadata": {
            "tags": []
          },
          "execution_count": 90
        },
        {
          "output_type": "display_data",
          "data": {
            "image/png": "[encoded data removed]",
            "text/plain": [
              "<Figure size 432x288 with 1 Axes>"
            ]
          },
          "metadata": {
            "tags": []
          }
        }
      ]
    },
    {
      "cell_type": "markdown",
      "metadata": {
        "colab_type": "text",
        "id": "ulp_uILXCv4Z"
      },
      "source": [
        "# 5.Supervised learning"
      ]
    },
    {
      "cell_type": "code",
      "metadata": {
        "colab_type": "code",
        "id": "0O7tszcPfnHN",
        "colab": {}
      },
      "source": [
        "train, test = scaled_df.randomSplit([0.7, 0.3])"
      ],
      "execution_count": 0,
      "outputs": []
    },
    {
      "cell_type": "markdown",
      "metadata": {
        "colab_type": "text",
        "id": "2SsHdh7YC-eN"
      },
      "source": [
        "## 5.1 LogisticRegression"
      ]
    },
    {
      "cell_type": "code",
      "metadata": {
        "colab_type": "code",
        "id": "Vqo_ywFQYxSj",
        "outputId": "efec5680-2f1c-4ab8-a19a-f8924a63d2a7",
        "colab": {
          "base_uri": "https://localhost:8080/",
          "height": 34
        }
      },
      "source": [
        "# Logistic Regression\n",
        "from pyspark.ml.classification import LogisticRegression \n",
        "lr = LogisticRegression(featuresCol='scaled_features', labelCol ='label', maxIter=5)\n",
        "lrModel = lr.fit(train)\n",
        "predictions = lrModel.transform(test)\n",
        "predictions.select('age', 'job', 'label', 'rawPrediction', 'prediction', 'probability')"
      ],
      "execution_count": 0,
      "outputs": [
        {
          "output_type": "execute_result",
          "data": {
            "text/plain": [
              "DataFrame[age: int, job: string, label: double, rawPrediction: vector, prediction: double, probability: vector]"
            ]
          },
          "metadata": {
            "tags": []
          },
          "execution_count": 97
        }
      ]
    },
    {
      "cell_type": "code",
      "metadata": {
        "id": "gEPlKueEre99",
        "colab_type": "code",
        "outputId": "aefe0559-ab00-4e5c-c490-0c1c1aadc0e5",
        "colab": {
          "base_uri": "https://localhost:8080/",
          "height": 34
        }
      },
      "source": [
        "from pyspark.ml.evaluation import MulticlassClassificationEvaluator \n",
        "print('accuracy ',MulticlassClassificationEvaluator(labelCol='label', predictionCol='prediction', metricName=\"accuracy\").evaluate(predictions))\n"
      ],
      "execution_count": 0,
      "outputs": [
        {
          "output_type": "stream",
          "text": [
            "accuracy  0.7545454545454545\n"
          ],
          "name": "stdout"
        }
      ]
    },
    {
      "cell_type": "markdown",
      "metadata": {
        "colab_type": "text",
        "id": "evM5eiJoDHw2"
      },
      "source": [
        "## 5.2 Decision tree"
      ]
    },
    {
      "cell_type": "code",
      "metadata": {
        "colab_type": "code",
        "id": "He4mlHb7hBoY",
        "outputId": "ed066314-d98c-45bf-efd1-e5200b4e9569",
        "colab": {
          "base_uri": "https://localhost:8080/",
          "height": 34
        }
      },
      "source": [
        "#Decision tree\n",
        "from pyspark.ml.classification import DecisionTreeClassifier \n",
        "dt = DecisionTreeClassifier(featuresCol='scaled_features', labelCol ='label', maxDepth = 3)\n",
        "dtModel = dt.fit(train)\n",
        "predictions = dtModel.transform(test)\n",
        "predictions.select('age', 'job','label', 'rawPrediction', 'prediction', 'probability')"
      ],
      "execution_count": 0,
      "outputs": [
        {
          "output_type": "execute_result",
          "data": {
            "text/plain": [
              "DataFrame[age: int, job: string, label: double, rawPrediction: vector, prediction: double, probability: vector]"
            ]
          },
          "metadata": {
            "tags": []
          },
          "execution_count": 99
        }
      ]
    },
    {
      "cell_type": "code",
      "metadata": {
        "id": "Ms25Duausi59",
        "colab_type": "code",
        "outputId": "510ae350-23b4-4283-a9f7-8dad9205d4e2",
        "colab": {
          "base_uri": "https://localhost:8080/",
          "height": 34
        }
      },
      "source": [
        "print('accuracy ',MulticlassClassificationEvaluator(labelCol='label', predictionCol='prediction', metricName=\"accuracy\").evaluate(predictions))"
      ],
      "execution_count": 0,
      "outputs": [
        {
          "output_type": "stream",
          "text": [
            "accuracy  0.7696969696969697\n"
          ],
          "name": "stdout"
        }
      ]
    },
    {
      "cell_type": "markdown",
      "metadata": {
        "colab_type": "text",
        "id": "CaE-Z_IlDKXF"
      },
      "source": [
        "## 5.3 NaiveBayes"
      ]
    },
    {
      "cell_type": "code",
      "metadata": {
        "colab_type": "code",
        "id": "v2XL6I0t7irt",
        "outputId": "42f798fe-4a1d-458d-a65c-61649d09662a",
        "colab": {
          "base_uri": "https://localhost:8080/",
          "height": 34
        }
      },
      "source": [
        "#NaiveBayes\n",
        "from pyspark.ml.classification import NaiveBayes\n",
        "\n",
        "nb = NaiveBayes(featuresCol='scaled_features', labelCol ='label', smoothing=1)\n",
        "model = nb.fit(train)\n",
        "\n",
        "predictions = model.transform(test)\n",
        "predictions.filter(predictions['prediction'] == 0) \\\n",
        "    .select('age', 'job', 'label', 'rawPrediction', 'prediction', 'probability') \\\n",
        "    .orderBy(\"probability\", ascending=False)"
      ],
      "execution_count": 0,
      "outputs": [
        {
          "output_type": "execute_result",
          "data": {
            "text/plain": [
              "DataFrame[age: int, job: string, label: double, rawPrediction: vector, prediction: double, probability: vector]"
            ]
          },
          "metadata": {
            "tags": []
          },
          "execution_count": 101
        }
      ]
    },
    {
      "cell_type": "code",
      "metadata": {
        "id": "SKtnZQDnj52_",
        "colab_type": "code",
        "outputId": "e6953af9-e54f-42df-ac43-94f366f35ed7",
        "colab": {
          "base_uri": "https://localhost:8080/",
          "height": 34
        }
      },
      "source": [
        "print('accuracy ',MulticlassClassificationEvaluator(labelCol='label', predictionCol='prediction', metricName=\"accuracy\").evaluate(predictions))"
      ],
      "execution_count": 0,
      "outputs": [
        {
          "output_type": "stream",
          "text": [
            "accuracy  0.7378787878787879\n"
          ],
          "name": "stdout"
        }
      ]
    }
  ]
}